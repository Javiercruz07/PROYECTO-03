{
 "cells": [
  {
   "cell_type": "markdown",
   "id": "5520625b-c902-408e-8d9f-4c2699fe73bd",
   "metadata": {},
   "source": [
    "# PROYECTO 03 BY JAVIER CRUZ <a id='back'></a>"
   ]
  },
  {
   "cell_type": "markdown",
   "id": "b58b813f-5da3-4a79-8543-adb60ffb8d60",
   "metadata": {},
   "source": [
    "### Descripción del proyecto"
   ]
  },
  {
   "cell_type": "markdown",
   "id": "b75ff520-57ad-4cf7-a7f1-78bee97954f3",
   "metadata": {},
   "source": [
    "En este proyecto, trabajarás con datos reales de transmisión de música online para explorar y procesar información sobre los hábitos de escucha de los usuarios y las usuarias en dos ciudades: Springfield y Shelbyville."
   ]
  },
  {
   "cell_type": "markdown",
   "id": "8f5dbb36-d790-435a-a06e-8fcdd74f4004",
   "metadata": {},
   "source": [
    "# Contenido <a id='back'></a>\n",
    "\n",
    "* [Introducción](#intro)\n",
    "* [Etapa 1. Descripción de los datos](#data_review)\n",
    "    * [Conclusiones](#data_review_conclusions)\n",
    "* [Etapa 2. Preprocesamiento de datos](#data_preprocessing)\n",
    "    * [2.1 Estilo del encabezado](#header_style)\n",
    "    * [2.2 Valores ausentes](#missing_values)\n",
    "    * [2.3 Duplicados](#duplicates)\n",
    "    * [2.4 Conclusiones](#data_preprocessing_conclusions)\n",
    "* [Etapa 3. Prueba de hipótesis](#hypothesis)\n",
    "    * [3.1 Hipótesis 1: actividad de los usuarios y las usuarias en las dos ciudades](#activity)\n",
    "* [Conclusiones](#end)"
   ]
  },
  {
   "cell_type": "markdown",
   "id": "37636514-c510-462e-ac9f-d4c4ab97eef8",
   "metadata": {
    "slideshow": {
     "slide_type": ""
    },
    "tags": []
   },
   "source": [
    "## 1 Introducción <a id='intro'></a>\n",
    "Como analista de datos, tu trabajo consiste en analizar datos para extraer información valiosa y tomar decisiones basadas en ellos. Esto implica diferentes etapas, como la descripción general de los datos, el preprocesamiento y la prueba de hipótesis.\n",
    "\n",
    "Siempre que investigamos, necesitamos formular hipótesis que después podamos probar. A veces aceptamos estas hipótesis; otras veces, las rechazamos. Para tomar las decisiones correctas, una empresa debe ser capaz de entender si está haciendo las suposiciones correctas.\n",
    "\n",
    "En este proyecto, compararás las preferencias musicales de las ciudades de Springfield y Shelbyville. Estudiarás datos reales de transmisión de música online para probar la hipótesis a continuación y comparar el comportamiento de los usuarios y las usuarias de estas dos ciudades.\n",
    "\n",
    "### 1.1 Objetivo:\n",
    "Prueba la hipótesis:\n",
    "1. La actividad de los usuarios y las usuarias difiere según el día de la semana y dependiendo de la ciudad.\n",
    "\n",
    "\n",
    "### 1.2 Etapas\n",
    "Los datos del comportamiento del usuario se almacenan en el archivo `/datasets/music_project_en.csv`. No hay ninguna información sobre la calidad de los datos, así que necesitarás examinarlos antes de probar la hipótesis.\n",
    "\n",
    "Primero, evaluarás la calidad de los datos y verás si los problemas son significativos. Entonces, durante el preprocesamiento de datos, tomarás en cuenta los problemas más críticos.\n",
    "\n",
    "Tu proyecto consistirá en tres etapas:\n",
    " 1. Descripción de los datos.\n",
    " 2. Preprocesamiento de datos.\n",
    " 3. Prueba de hipótesis.\n"
   ]
  },
  {
   "cell_type": "markdown",
   "id": "29d4cab1-a251-4735-9930-bba2efe7a66f",
   "metadata": {},
   "source": [
    "Hipótesis:\n",
    "\"La actividad de los usuarios y las usuarias en las plataformas de música online varía según el día de la semana y depende de la ciudad. Específicamente, los patrones de consumo musical en Springfield y Shelbyville son diferentes, reflejando posibles diferencias culturales, demográficas o de comportamiento entre ambas ciudades.\"\n",
    "\n",
    "Objetivo del análisis:\n",
    "El objetivo es comparar las preferencias musicales de los usuarios y las usuarias de Springfield y Shelbyville utilizando datos reales de transmisión de música online. Se analizará si existen diferencias significativas en el número de canciones reproducidas en ambas ciudades durante días específicos de la semana (lunes, miércoles y viernes). Esto permitirá identificar patrones de consumo musical y evaluar si el comportamiento de los usuarios varía en función de la ciudad y el día."
   ]
  },
  {
   "cell_type": "markdown",
   "id": "b683fc9b-2d2a-4b41-adf3-394d0f29c7f4",
   "metadata": {},
   "source": [
    "## 2 Etapa 1. Descripción de los datos <a id='data_review'></a>\n",
    "\n",
    "Abre los datos y examínalos."
   ]
  },
  {
   "cell_type": "markdown",
   "id": "23eda01b-ce66-4449-9f39-e71b78a23ea8",
   "metadata": {},
   "source": [
    "Necesitarás pandas, así que impórtalo."
   ]
  },
  {
   "cell_type": "code",
   "execution_count": 76,
   "id": "c9989587-bcc1-4fae-945f-63c6a05bea0f",
   "metadata": {},
   "outputs": [],
   "source": [
    "# Importar pandas\n",
    "import pandas as pd\n",
    "import numpy as np\n",
    "from scipy import stats\n",
    "import os"
   ]
  },
  {
   "cell_type": "markdown",
   "id": "18c4a88a-153b-43e2-9de8-36c57b2f43ee",
   "metadata": {
    "slideshow": {
     "slide_type": ""
    },
    "tags": []
   },
   "source": [
    "Lee el archivo music_project_en.csv de la carpeta /datasets/ y guárdalo en la variable df:"
   ]
  },
  {
   "cell_type": "code",
   "execution_count": 13,
   "id": "72367219-922a-4628-bf62-dbce15e97de3",
   "metadata": {},
   "outputs": [
    {
     "name": "stdout",
     "output_type": "stream",
     "text": [
      "Directorio actual: /drive\n"
     ]
    }
   ],
   "source": [
    "# Leer el archivo CSV\n",
    "file_path = 'music_project_en.csv'\n",
    "current_directory = os.getcwd()\n",
    "print(f\"Directorio actual: {current_directory}\")\n",
    "if os.path.exists(file_path):\n",
    "    df = pd.read_csv(file_path)\n",
    "else:\n",
    "    print(f\"Error: File not found at {file_path}\")"
   ]
  },
  {
   "cell_type": "markdown",
   "id": "7ee7c919-8ca2-41a2-9ee6-e89fde0886f5",
   "metadata": {},
   "source": [
    "Muestra las 10 primeras filas de la tabla:"
   ]
  },
  {
   "cell_type": "code",
   "execution_count": 14,
   "id": "c1935ec3-8d78-44e1-ae24-e410e3302308",
   "metadata": {},
   "outputs": [
    {
     "name": "stdout",
     "output_type": "stream",
     "text": [
      "\n",
      "Primeras 10 filas del dataset:\n",
      "     userID                        Track            artist   genre  \\\n",
      "0  FFB692EC            Kamigata To Boots  The Mass Missile    rock   \n",
      "1  55204538  Delayed Because of Accident  Andreas Rönnberg    rock   \n",
      "2    20EC38            Funiculì funiculà       Mario Lanza     pop   \n",
      "3  A3DD03C9        Dragons in the Sunset        Fire + Ice    folk   \n",
      "4  E2DC1FAE                  Soul People        Space Echo   dance   \n",
      "5  842029A1                       Chains          Obladaet  rusrap   \n",
      "6  4CB90AA5                         True      Roman Messer   dance   \n",
      "7  F03E1C1F             Feeling This Way   Polina Griffith   dance   \n",
      "8  8FA1D3BE                     L’estate       Julia Dalia  ruspop   \n",
      "9  E772D5C0                    Pessimist               NaN   dance   \n",
      "\n",
      "        City        time        Day  \n",
      "0  Shelbyville  20:28:33  Wednesday  \n",
      "1  Springfield  14:07:09     Friday  \n",
      "2  Shelbyville  20:58:07  Wednesday  \n",
      "3  Shelbyville  08:37:09     Monday  \n",
      "4  Springfield  08:34:34     Monday  \n",
      "5  Shelbyville  13:09:41     Friday  \n",
      "6  Springfield  13:00:07  Wednesday  \n",
      "7  Springfield  20:47:49  Wednesday  \n",
      "8  Springfield  09:17:40     Friday  \n",
      "9  Shelbyville  21:20:49  Wednesday  \n"
     ]
    }
   ],
   "source": [
    "# Mostrar primeras 10 filas\n",
    "print(\"\\nPrimeras 10 filas del dataset:\")\n",
    "print(df.head(10))"
   ]
  },
  {
   "cell_type": "markdown",
   "id": "e9fdc40c-3093-4f8c-b8b5-6778e8bea7dd",
   "metadata": {},
   "source": [
    "Obtén la información general sobre la tabla con un comando. Conoces el método que muestra la información general que necesitamos."
   ]
  },
  {
   "cell_type": "code",
   "execution_count": 15,
   "id": "1d121bd4-9163-4863-943f-7d3c367626f9",
   "metadata": {},
   "outputs": [
    {
     "name": "stdout",
     "output_type": "stream",
     "text": [
      "\n",
      "Información general del dataset:\n",
      "<class 'pandas.core.frame.DataFrame'>\n",
      "RangeIndex: 65079 entries, 0 to 65078\n",
      "Data columns (total 7 columns):\n",
      " #   Column    Non-Null Count  Dtype \n",
      "---  ------    --------------  ----- \n",
      " 0     userID  65079 non-null  object\n",
      " 1   Track     63736 non-null  object\n",
      " 2   artist    57512 non-null  object\n",
      " 3   genre     63881 non-null  object\n",
      " 4     City    65079 non-null  object\n",
      " 5   time      65079 non-null  object\n",
      " 6   Day       65079 non-null  object\n",
      "dtypes: object(7)\n",
      "memory usage: 1.7+ MB\n",
      "None\n"
     ]
    }
   ],
   "source": [
    "# Obtener la información general sobre nuestros datos\n",
    "print(\"\\nInformación general del dataset:\")\n",
    "print(df.info())"
   ]
  },
  {
   "cell_type": "markdown",
   "id": "da73eeda-b10f-4dca-a8a9-9b89ad90b42f",
   "metadata": {},
   "source": [
    "Estas son nuestras observaciones sobre la tabla. Contiene siete columnas. Almacenan los mismos tipos de datos: `object`.\n",
    "\n",
    "Según la documentación:\n",
    "- `' userID'`: identificador del usuario o la usuaria;\n",
    "- `'Track'`: título de la canción;\n",
    "- `'artist'`: nombre del artista;\n",
    "- `'genre'`: género de la pista;\n",
    "- `'City'`: ciudad del usuario o la usuaria;\n",
    "- `'time'`: la hora exacta en la que se reprodujo la canción;\n",
    "- `'Day'`: día de la semana.\n",
    "\n",
    "Podemos ver tres problemas con el estilo en los encabezados de la tabla:\n",
    "1. `Algunos encabezados están en mayúsculas, otros en minúsculas`.\n",
    "2. `Hay espacios en algunos encabezados`.\n",
    "3. `Detecta el tercer problema por tu cuenta y descríbelo aquí`."
   ]
  },
  {
   "cell_type": "markdown",
   "id": "6ce44711-7e09-490c-9471-b66903464d55",
   "metadata": {},
   "source": [
    "2.1  Escribe observaciones de tu parte. Estas son algunas de las preguntas que pueden ser útiles: \n",
    "1.   ¿Qué tipo de datos tenemos a nuestra disposición en las filas? ¿Y cómo podemos entender lo que almacenan las columnas?\n",
    "\n",
    "2.   ¿Hay suficientes datos para proporcionar respuestas a nuestra hipótesis o necesitamos más información?\n",
    "\n",
    "3.   ¿Notaste algún problema en los datos, como valores ausentes, duplicados o tipos de datos incorrectos?"
   ]
  },
  {
   "cell_type": "markdown",
   "id": "5d52f943-f176-4988-9f88-ffb2fd46bcd1",
   "metadata": {},
   "source": [
    "#Respuestas:\n",
    "1. Cada fila del dataset representa una interacción de un usuario con una canción en un momento específico. Esto incluye información sobre el usuario (user_id), la canción reproducida (track), el artista (artist), el género musical (genre), la ciudad del usuario (city), la hora de reproducción (time) y el día de la semana (day).\n",
    "Las columnas almacenan datos categóricos (user_id, track, artist, genre, city, day) y datos de tiempo (time). Estas columnas nos permiten analizar patrones de comportamiento de los usuarios, como las preferencias musicales según la ciudad, el día de la semana o el género musical.\n",
    "\n",
    "2. El dataset contiene 65,079 filas, lo que parece ser una cantidad suficiente de datos para realizar un análisis significativo y probar la hipótesis planteada.\n",
    "Sin embargo, la calidad de los datos es crucial. Si hay demasiados valores ausentes o duplicados, esto podría afectar la validez de los resultados. Afortunadamente, los datos incluyen información clave como la ciudad, el día y el género musical, que son esenciales para probar la hipótesis.\n",
    "\n",
    "3. Valores ausentes: Se detectaron valores ausentes en las columnas track, artist y genre. Aunque los valores ausentes en track y artist no son críticos para nuestra hipótesis, los valores ausentes en genre podrían afectar el análisis de las preferencias musicales entre las ciudades.\n",
    "Duplicados explícitos: Se encontraron registros duplicados en el dataset. Estos duplicados deben eliminarse para evitar sesgos en el análisis.\n",
    "Duplicados implícitos: En la columna genre, se encontraron duplicados implícitos, como diferentes formas de escribir el género \"hiphop\" (hip, hop, hip-hop). Estos errores deben corregirse para garantizar la coherencia en el análisis.\n",
    "Tipos de datos: Los tipos de datos en las columnas parecen ser correctos. Sin embargo, la columna time debe ser convertida a un formato de tiempo para realizar análisis basados en horas, si es necesario."
   ]
  },
  {
   "cell_type": "markdown",
   "id": "3ea4e88f-518f-431b-86c0-b7d660e3c9d1",
   "metadata": {},
   "source": [
    "### 2.1 Escribe observaciones de tu parte. Estas son algunas de las preguntas que pueden ser útiles: <a id='data_review_conclusions'></a>\n",
    "\n",
    "`1.   ¿Qué tipo de datos tenemos a nuestra disposición en las filas? ¿Y cómo podemos entender lo que almacenan las columnas?`\n",
    "\n",
    "`2.   ¿Hay suficientes datos para proporcionar respuestas a nuestra hipótesis o necesitamos más información?`\n",
    "\n",
    "`3.   ¿Notaste algún problema en los datos, como valores ausentes, duplicados o tipos de datos incorrectos?`"
   ]
  },
  {
   "cell_type": "markdown",
   "id": "4f96ff29-661f-46bb-b78a-4e4f2f35c311",
   "metadata": {},
   "source": [
    "#Respuesta: En general, el dataset es adecuado para probar la hipótesis, pero requiere un preprocesamiento cuidadoso. Esto incluye la corrección de encabezados, el manejo de valores ausentes, la eliminación de duplicados y la normalización de los géneros musicales. Una vez que estos problemas se resuelvan, los datos estarán listos para el análisis y la prueba de hipótesis."
   ]
  },
  {
   "cell_type": "markdown",
   "id": "1e4a257e-7547-4e72-a303-6b793ee91d99",
   "metadata": {},
   "source": [
    "##  3 Etapa 2. Preprocesamiento de datos <a id='data_preprocessing'></a>\n",
    "\n",
    "El objetivo aquí es preparar los datos para que sean analizados.\n",
    "El primer paso es resolver cualquier problema con los encabezados. Luego podemos avanzar a los valores ausentes y duplicados. Empecemos.\n",
    "\n",
    "Corrige el formato en los encabezados de la tabla."
   ]
  },
  {
   "cell_type": "markdown",
   "id": "f486b1f5-40b6-4c85-bc68-b429bb79c757",
   "metadata": {},
   "source": [
    "### 3.1 Estilo del encabezado <a id='header_style'></a>\n",
    "Muestra los encabezados de la tabla (los nombres de las columnas):"
   ]
  },
  {
   "cell_type": "code",
   "execution_count": 25,
   "id": "97fff626-3eca-451c-892b-83b20398d22c",
   "metadata": {},
   "outputs": [
    {
     "name": "stdout",
     "output_type": "stream",
     "text": [
      "\n",
      "=== Encabezados originales ===\n",
      "Index(['  userID', 'Track', 'artist', 'genre', '  City  ', 'time', 'Day'], dtype='object')\n"
     ]
    }
   ],
   "source": [
    "# Muestra los nombres de las columnas\n",
    "print(\"\\n=== Encabezados originales ===\")\n",
    "print(df.columns)"
   ]
  },
  {
   "cell_type": "code",
   "execution_count": 26,
   "id": "8416d770-94e5-4b3c-b737-7537129d7df6",
   "metadata": {},
   "outputs": [
    {
     "name": "stdout",
     "output_type": "stream",
     "text": [
      "\n",
      "=== Encabezados corregidos ===\n",
      "Index(['userid', 'track', 'artist', 'genre', 'city', 'time', 'day'], dtype='object')\n"
     ]
    }
   ],
   "source": [
    "# Cambiar los encabezados de la tabla según las reglas del buen estilo\n",
    "# Todos los caracteres en minúsculas, eliminar espacios y usar snake_case\n",
    "df.columns = [col.strip().lower().replace(' ', '_') for col in df.columns]\n",
    "\n",
    "# Mostrar los nombres de las columnas después de aplicar las reglas\n",
    "print(\"\\n=== Encabezados corregidos ===\")\n",
    "print(df.columns)"
   ]
  },
  {
   "cell_type": "markdown",
   "id": "e4b73e00-f5f4-4b3f-a3e3-a5e4491d22ad",
   "metadata": {},
   "source": [
    "Cambia los encabezados de la tabla de acuerdo con las reglas del buen estilo:\n",
    "* Todos los caracteres deben ser minúsculas.\n",
    "* Elimina los espacios.\n",
    "* Si el nombre tiene varias palabras, utiliza snake_case."
   ]
  },
  {
   "cell_type": "markdown",
   "id": "4902f3f6-712a-4e40-b3d8-119af9c651b6",
   "metadata": {},
   "source": [
    "Anteriormente, aprendiste acerca de la forma automática de cambiar el nombre de las columnas. Vamos a aplicarla ahora. Utiliza el bucle for para iterar sobre los nombres de las columnas y poner todos los caracteres en minúsculas. Cuando hayas terminado, vuelve a mostrar los encabezados de la tabla:"
   ]
  },
  {
   "cell_type": "code",
   "execution_count": 27,
   "id": "90e5dac7-3ca8-485b-8e98-40db09f7bd17",
   "metadata": {},
   "outputs": [
    {
     "name": "stdout",
     "output_type": "stream",
     "text": [
      "=== Encabezados originales ===\n",
      "Index(['userid', 'track', 'artist', 'genre', 'city', 'time', 'day'], dtype='object')\n",
      "\n",
      "=== Encabezados después de poner en minúsculas ===\n",
      "Index(['userid', 'track', 'artist', 'genre', 'city', 'time', 'day'], dtype='object')\n"
     ]
    }
   ],
   "source": [
    "# Bucle en los encabezados poniendo todo en minúsculas\n",
    "print(\"=== Encabezados originales ===\")\n",
    "print(df.columns)\n",
    "\n",
    "# Bucle para cambiar los nombres de las columnas a minúsculas\n",
    "new_columns = []\n",
    "for col in df.columns:\n",
    "    new_columns.append(col.lower())  # Convertir a minúsculas\n",
    "df.columns = new_columns\n",
    "\n",
    "# Mostrar los nombres de las columnas después de aplicar el cambio\n",
    "print(\"\\n=== Encabezados después de poner en minúsculas ===\")\n",
    "print(df.columns)"
   ]
  },
  {
   "cell_type": "markdown",
   "id": "24d98b39-835f-4ea6-9dfc-586bc5c79531",
   "metadata": {},
   "source": [
    "Ahora, utilizando el mismo método, elimina los espacios al principio y al final de los nombres de las columnas e imprime los nombres de las columnas nuevamente:"
   ]
  },
  {
   "cell_type": "code",
   "execution_count": 28,
   "id": "51a1a495-673f-4076-8d47-0665a7e0dfd5",
   "metadata": {},
   "outputs": [
    {
     "name": "stdout",
     "output_type": "stream",
     "text": [
      "=== Encabezados originales ===\n",
      "Index(['userid', 'track', 'artist', 'genre', 'city', 'time', 'day'], dtype='object')\n",
      "\n",
      "=== Encabezados después de eliminar espacios ===\n",
      "Index(['userid', 'track', 'artist', 'genre', 'city', 'time', 'day'], dtype='object')\n"
     ]
    }
   ],
   "source": [
    "# Bucle en los encabezados eliminando los espacios\n",
    "print(\"=== Encabezados originales ===\")\n",
    "print(df.columns)\n",
    "\n",
    "# Bucle para eliminar los espacios al principio y al final de los nombres de las columnas\n",
    "new_columns = []\n",
    "for col in df.columns:\n",
    "    new_columns.append(col.strip())  # Eliminar espacios al principio y al final\n",
    "df.columns = new_columns\n",
    "\n",
    "# Mostrar los nombres de las columnas después de eliminar los espacios\n",
    "print(\"\\n=== Encabezados después de eliminar espacios ===\")\n",
    "print(df.columns)"
   ]
  },
  {
   "cell_type": "markdown",
   "id": "fd58de70-aa3a-4d00-a1af-cfe01c137ab3",
   "metadata": {},
   "source": [
    "Necesitamos aplicar la regla de snake_case a la columna `userid`. Debe ser `user_id`. Cambia el nombre de esta columna y muestra los nombres de todas las columnas cuando hayas terminado."
   ]
  },
  {
   "cell_type": "code",
   "execution_count": 29,
   "id": "732c3b28-c2ed-41c2-ae55-a6d49494ca0e",
   "metadata": {},
   "outputs": [
    {
     "name": "stdout",
     "output_type": "stream",
     "text": [
      "=== Encabezados originales ===\n",
      "Index(['userid', 'track', 'artist', 'genre', 'city', 'time', 'day'], dtype='object')\n",
      "\n",
      "=== Encabezados después de cambiar 'userid' a 'user_id' ===\n",
      "Index(['user_id', 'track', 'artist', 'genre', 'city', 'time', 'day'], dtype='object')\n"
     ]
    }
   ],
   "source": [
    "# Cambiar el nombre de la columna \"userid\"\n",
    "print(\"=== Encabezados originales ===\")\n",
    "print(df.columns)\n",
    "\n",
    "# Cambiar el nombre de la columna \"userid\" a \"user_id\"\n",
    "df.rename(columns={'userid': 'user_id'}, inplace=True)\n",
    "\n",
    "# Mostrar los nombres de las columnas después del cambio\n",
    "print(\"\\n=== Encabezados después de cambiar 'userid' a 'user_id' ===\")\n",
    "print(df.columns)"
   ]
  },
  {
   "cell_type": "markdown",
   "id": "0279066a-ef71-4b83-aac3-d06ce79be8ed",
   "metadata": {},
   "source": [
    "Comprueba el resultado. Muestra los encabezados una vez más:"
   ]
  },
  {
   "cell_type": "code",
   "execution_count": 30,
   "id": "719fead6-ee46-45fb-bbb5-1e91f027354e",
   "metadata": {},
   "outputs": [
    {
     "name": "stdout",
     "output_type": "stream",
     "text": [
      "=== Lista final de encabezados ===\n",
      "Index(['user_id', 'track', 'artist', 'genre', 'city', 'time', 'day'], dtype='object')\n"
     ]
    }
   ],
   "source": [
    "# Comprobar el resultado: la lista de encabezados\n",
    "print(\"=== Lista final de encabezados ===\")\n",
    "print(df.columns)"
   ]
  },
  {
   "cell_type": "markdown",
   "id": "e666de4e-a7bb-4b89-b7b1-4874d654a49b",
   "metadata": {},
   "source": [
    "### 3.2 Valores ausentes <a id='missing_values'></a>\n",
    " Primero, encuentra el número de valores ausentes en la tabla. Debes utilizar dos métodos en una secuencia para obtener el número de valores ausentes."
   ]
  },
  {
   "cell_type": "code",
   "execution_count": 32,
   "id": "c2fc611c-4a15-4fc2-97e6-255eb60b320e",
   "metadata": {},
   "outputs": [
    {
     "name": "stdout",
     "output_type": "stream",
     "text": [
      "=== Número total de valores ausentes ===\n",
      "0\n"
     ]
    }
   ],
   "source": [
    "# Calcular el número de valores ausentes\n",
    "missing_values = df.isnull().sum().sum()\n",
    "\n",
    "# Mostrar el número total de valores ausentes\n",
    "print(\"=== Número total de valores ausentes ===\")\n",
    "print(missing_values)"
   ]
  },
  {
   "cell_type": "markdown",
   "id": "114a070a-fa41-415d-9f40-c1645f755cf9",
   "metadata": {},
   "source": [
    "No todos los valores ausentes afectan a la investigación. Por ejemplo, los valores ausentes en `track` y `artist` no son cruciales. Simplemente puedes reemplazarlos con valores predeterminados como el string `'unknown'` (desconocido).\n",
    "\n",
    "Pero los valores ausentes en `'genre'` pueden afectar la comparación entre las preferencias musicales de Springfield y Shelbyville. En la vida real, sería útil saber las razones por las cuales hay datos ausentes e intentar recuperarlos. Pero no tenemos esa oportunidad en este proyecto. Así que tendrás que:\n",
    "* rellenar estos valores ausentes con un valor predeterminado;\n",
    "* evaluar cuánto podrían afectar los valores ausentes a tus cómputos;"
   ]
  },
  {
   "cell_type": "markdown",
   "id": "6a5fa848-9d01-405f-9079-af6b13849c10",
   "metadata": {},
   "source": [
    "Reemplazar los valores ausentes en las columnas `'track'`, `'artist'` y `'genre'` con el string `'unknown'`. Como mostramos anteriormente en las lecciones, la mejor forma de hacerlo es crear una lista que almacene los nombres de las columnas donde se necesita el reemplazo. Luego, utiliza esta lista e itera sobre las columnas donde se necesita el reemplazo haciendo el propio reemplazo."
   ]
  },
  {
   "cell_type": "code",
   "execution_count": 33,
   "id": "759f647f-f35c-408a-a287-2320804b25d6",
   "metadata": {},
   "outputs": [
    {
     "name": "stdout",
     "output_type": "stream",
     "text": [
      "=== Valores ausentes reemplazados con 'unknown' en las columnas seleccionadas ===\n"
     ]
    }
   ],
   "source": [
    "# Bucle en los encabezados reemplazando los valores ausentes con 'unknown'\n",
    "columns_to_replace = ['track', 'artist', 'genre']\n",
    "\n",
    "# Bucle para iterar sobre las columnas y reemplazar los valores ausentes con 'unknown'\n",
    "for col in columns_to_replace:\n",
    "    df[col].fillna('unknown', inplace=True)\n",
    "\n",
    "# Comprobar el resultado mostrando las primeras filas de las columnas afectadas\n",
    "print(\"=== Valores ausentes reemplazados con 'unknown' en las columnas seleccionadas ===\")"
   ]
  },
  {
   "cell_type": "markdown",
   "id": "bbe92fcb-b3f0-4132-aa65-a5cf6991fe07",
   "metadata": {},
   "source": [
    "Ahora comprueba el resultado para asegurarte de que después del reemplazo no haya valores ausentes en el conjunto de datos. Para hacer esto, cuenta los valores ausentes nuevamente."
   ]
  },
  {
   "cell_type": "code",
   "execution_count": 34,
   "id": "6b77e9d8-c99a-4253-8a61-4ec9fa6a78af",
   "metadata": {},
   "outputs": [
    {
     "name": "stdout",
     "output_type": "stream",
     "text": [
      "=== Número total de valores ausentes después del reemplazo ===\n",
      "0\n"
     ]
    }
   ],
   "source": [
    "# Contar valores ausentes\n",
    "missing_values_after_replacement = df.isnull().sum().sum()\n",
    "\n",
    "# Mostrar el número total de valores ausentes después del reemplazo\n",
    "print(\"=== Número total de valores ausentes después del reemplazo ===\")\n",
    "print(missing_values_after_replacement)"
   ]
  },
  {
   "cell_type": "markdown",
   "id": "ec52cf70-783b-434b-8010-87748d7b3f53",
   "metadata": {},
   "source": [
    "### 3.3 Duplicados <a id='duplicates'></a>\n",
    "Encuentra el número de duplicados explícitos en la tabla. Una vez más, debes aplicar dos métodos en una secuencia para obtener la cantidad de duplicados explícitos."
   ]
  },
  {
   "cell_type": "code",
   "execution_count": 36,
   "id": "150f9b70-d740-45e3-bffa-9ca71c119e7f",
   "metadata": {},
   "outputs": [
    {
     "name": "stdout",
     "output_type": "stream",
     "text": [
      "=== Número total de duplicados explícitos ===\n",
      "3826\n"
     ]
    }
   ],
   "source": [
    "# Contar duplicados explícitos\n",
    "duplicate_count = df.duplicated().sum()\n",
    "\n",
    "# Mostrar el número total de duplicados explícitos\n",
    "print(\"=== Número total de duplicados explícitos ===\")\n",
    "print(duplicate_count)"
   ]
  },
  {
   "cell_type": "markdown",
   "id": "072ac22d-aae7-42b3-bbbb-d10feb556862",
   "metadata": {},
   "source": [
    "Ahora, elimina todos los duplicados. Para ello, llama al método que hace exactamente esto."
   ]
  },
  {
   "cell_type": "code",
   "execution_count": 37,
   "id": "04410750-f995-4ac2-86bb-b7cd5367304a",
   "metadata": {},
   "outputs": [
    {
     "name": "stdout",
     "output_type": "stream",
     "text": [
      "=== Número de duplicados restantes después de la eliminación ===\n",
      "0\n"
     ]
    }
   ],
   "source": [
    "# Eliminar duplicados explícitos\n",
    "df.drop_duplicates(inplace=True)\n",
    "\n",
    "# Comprobar el resultado mostrando el número de duplicados restantes\n",
    "remaining_duplicates = df.duplicated().sum()\n",
    "print(\"=== Número de duplicados restantes después de la eliminación ===\")\n",
    "print(remaining_duplicates)\n"
   ]
  },
  {
   "cell_type": "markdown",
   "id": "a5f9376f-62e8-4e69-9dc4-b080c358ed73",
   "metadata": {},
   "source": [
    "Comprobemos ahora si eliminamos con éxito todos los duplicados. Cuenta los duplicados explícitos una vez más para asegurarte de haberlos eliminado todos:"
   ]
  },
  {
   "cell_type": "code",
   "execution_count": 38,
   "id": "300ea1b8-2488-4c5d-a6ff-d02ef8d98379",
   "metadata": {},
   "outputs": [
    {
     "name": "stdout",
     "output_type": "stream",
     "text": [
      "=== Número total de duplicados explícitos restantes ===\n",
      "0\n"
     ]
    }
   ],
   "source": [
    "# Comprobar de nuevo si hay duplicados\n",
    "remaining_duplicates = df.duplicated().sum()\n",
    "\n",
    "# Mostrar el número total de duplicados explícitos restantes\n",
    "print(\"=== Número total de duplicados explícitos restantes ===\")\n",
    "print(remaining_duplicates)"
   ]
  },
  {
   "cell_type": "markdown",
   "id": "c017c23b-a79b-4b73-9251-4727ede2daa8",
   "metadata": {},
   "source": [
    "Ahora queremos deshacernos de los duplicados implícitos en la columna `genre`. Por ejemplo, el nombre de un género se puede escribir de varias formas. Dichos errores también pueden afectar al resultado."
   ]
  },
  {
   "cell_type": "markdown",
   "id": "f9199b8d-ce93-4ef3-9280-5a812dff3b2d",
   "metadata": {},
   "source": [
    "Para hacerlo, primero mostremos una lista de nombres de género únicos, ordenados en orden alfabético. Para ello:\n",
    "* Extrae la columna `genre` del DataFrame.\n",
    "* Llama al método que devolverá todos los valores únicos en la columna extraída."
   ]
  },
  {
   "cell_type": "code",
   "execution_count": 39,
   "id": "31a234a9-9a4f-4a9a-b6f2-dccfc4805dec",
   "metadata": {},
   "outputs": [
    {
     "name": "stdout",
     "output_type": "stream",
     "text": [
      "=== Nombres únicos de géneros (ordenados alfabéticamente) ===\n",
      "['acid', 'acoustic', 'action', 'adult', 'africa', 'afrikaans', 'alternative', 'ambient', 'americana', 'animated', 'anime', 'arabesk', 'arabic', 'arena', 'argentinetango', 'art', 'audiobook', 'avantgarde', 'axé', 'baile', 'balkan', 'beats', 'bigroom', 'black', 'bluegrass', 'blues', 'bollywood', 'bossa', 'brazilian', 'breakbeat', 'breaks', 'broadway', 'cantautori', 'cantopop', 'canzone', 'caribbean', 'caucasian', 'celtic', 'chamber', 'children', 'chill', 'chinese', 'choral', 'christian', 'christmas', 'classical', 'classicmetal', 'club', 'colombian', 'comedy', 'conjazz', 'contemporary', 'country', 'cuban', 'dance', 'dancehall', 'dancepop', 'dark', 'death', 'deep', 'deutschrock', 'deutschspr', 'dirty', 'disco', 'dnb', 'documentary', 'downbeat', 'downtempo', 'drum', 'dub', 'dubstep', 'eastern', 'easy', 'electronic', 'electropop', 'emo', 'entehno', 'epicmetal', 'estrada', 'ethnic', 'eurofolk', 'european', 'experimental', 'extrememetal', 'fado', 'film', 'fitness', 'flamenco', 'folk', 'folklore', 'folkmetal', 'folkrock', 'folktronica', 'forró', 'frankreich', 'französisch', 'french', 'funk', 'future', 'gangsta', 'garage', 'german', 'ghazal', 'gitarre', 'glitch', 'gospel', 'gothic', 'grime', 'grunge', 'gypsy', 'handsup', \"hard'n'heavy\", 'hardcore', 'hardstyle', 'hardtechno', 'hip', 'hip-hop', 'hiphop', 'historisch', 'holiday', 'hop', 'horror', 'house', 'idm', 'independent', 'indian', 'indie', 'indipop', 'industrial', 'inspirational', 'instrumental', 'international', 'irish', 'jam', 'japanese', 'jazz', 'jewish', 'jpop', 'jungle', 'k-pop', 'karadeniz', 'karaoke', 'kayokyoku', 'korean', 'laiko', 'latin', 'latino', 'leftfield', 'local', 'lounge', 'loungeelectronic', 'lovers', 'malaysian', 'mandopop', 'marschmusik', 'meditative', 'mediterranean', 'melodic', 'metal', 'metalcore', 'mexican', 'middle', 'minimal', 'miscellaneous', 'modern', 'mood', 'mpb', 'muslim', 'native', 'neoklassik', 'neue', 'new', 'newage', 'newwave', 'nu', 'nujazz', 'numetal', 'oceania', 'old', 'opera', 'orchestral', 'other', 'piano', 'pop', 'popelectronic', 'popeurodance', 'post', 'posthardcore', 'postrock', 'power', 'progmetal', 'progressive', 'psychedelic', 'punjabi', 'punk', 'quebecois', 'ragga', 'ram', 'rancheras', 'rap', 'rave', 'reggae', 'reggaeton', 'regional', 'relax', 'religious', 'retro', 'rhythm', 'rnb', 'rnr', 'rock', 'rockabilly', 'romance', 'roots', 'ruspop', 'rusrap', 'rusrock', 'salsa', 'samba', 'schlager', 'self', 'sertanejo', 'shoegazing', 'showtunes', 'singer', 'ska', 'slow', 'smooth', 'soul', 'soulful', 'sound', 'soundtrack', 'southern', 'specialty', 'speech', 'spiritual', 'sport', 'stonerrock', 'surf', 'swing', 'synthpop', 'sängerportrait', 'tango', 'tanzorchester', 'taraftar', 'tech', 'techno', 'thrash', 'top', 'traditional', 'tradjazz', 'trance', 'tribal', 'trip', 'triphop', 'tropical', 'türk', 'türkçe', 'unknown', 'urban', 'uzbek', 'variété', 'vi', 'videogame', 'vocal', 'western', 'world', 'worldbeat', 'ïîï']\n"
     ]
    }
   ],
   "source": [
    "# Inspeccionar los nombres de géneros únicos\n",
    "unique_genres = sorted(df['genre'].unique())\n",
    "\n",
    "# Mostrar la lista de nombres de géneros únicos\n",
    "print(\"=== Nombres únicos de géneros (ordenados alfabéticamente) ===\")\n",
    "print(unique_genres)"
   ]
  },
  {
   "cell_type": "markdown",
   "id": "4440a35e-3871-47d3-b8bf-dd999e293a06",
   "metadata": {},
   "source": [
    "Busca en la lista para encontrar duplicados implícitos del género `hiphop`. Estos pueden ser nombres escritos incorrectamente o nombres alternativos para el mismo género.\n",
    "\n",
    "Verás los siguientes duplicados implícitos:\n",
    "* `hip`\n",
    "* `hop`\n",
    "* `hip-hop`\n",
    "\n",
    "Para deshacerte de ellos, crea una función llamada `replace_wrong_genres()` con dos parámetros:\n",
    "* `wrong_genres=`: esta es una lista que contiene todos los valores que necesitas reemplazar.\n",
    "* `correct_genre=`: este es un string que vas a utilizar como reemplazo.\n",
    "\n",
    "Como resultado, la función debería corregir los nombres en la columna `'genre'` de la tabla `df`, es decir, remplazar cada valor de la lista `wrong_genres` por el valor en `correct_genre`.\n",
    "\n",
    "Dentro del cuerpo de la función, utiliza un bucle `'for'` para iterar sobre la lista de géneros incorrectos, extrae la columna `'genre'` y aplica el método `replace` para hacer correcciones."
   ]
  },
  {
   "cell_type": "code",
   "execution_count": 48,
   "id": "82accc66-c5c7-4dd0-b092-61646c5b7cb3",
   "metadata": {},
   "outputs": [],
   "source": [
    "# Función para reemplazar duplicados implícitos\n",
    "def replace_wrong_genres(wrong_genres, correct_genre):\n",
    "    for wrong_genre in wrong_genres:\n",
    "        # Reemplazar cada valor incorrecto en la columna 'genre' con el valor correcto\n",
    "        df['genre'] = df['genre'].replace(wrong_genre, correct_genre)\n"
   ]
  },
  {
   "cell_type": "markdown",
   "id": "e62e2c9f-f40e-4571-93d8-361db6c67bd5",
   "metadata": {},
   "source": [
    "Ahora, llama a replace_wrong_genres() y pásale tales argumentos para que retire los duplicados implícitos (hip, hop y hip-hop) y los reemplace por hiphop:"
   ]
  },
  {
   "cell_type": "code",
   "execution_count": 54,
   "id": "3ac3b378-6587-49c2-80af-c3c9b100d236",
   "metadata": {},
   "outputs": [
    {
     "name": "stdout",
     "output_type": "stream",
     "text": [
      "=== Nombres únicos de géneros después de eliminar duplicados implícitos ===\n"
     ]
    }
   ],
   "source": [
    "# Eliminar duplicados implícitos\n",
    "wrong_genres = ['hip', 'hop', 'hip-hop', 'hiphop']\n",
    "correct_genre = 'hiphop'\n",
    "\n",
    "# Llamar a la función para corregir los duplicados implícitos\n",
    "replace_wrong_genres(wrong_genres, correct_genre)\n",
    "\n",
    "# Comprobar el resultado mostrando los géneros únicos después de la corrección\n",
    "print(\"=== Nombres únicos de géneros después de eliminar duplicados implícitos ===\")"
   ]
  },
  {
   "cell_type": "markdown",
   "id": "fbdda312-06c2-4b82-9a59-a86e81f7f555",
   "metadata": {},
   "source": [
    "Asegúrate de que los nombres duplicados han sido eliminados. Muestra la lista de valores únicos de la columna `'genre'` una vez más:"
   ]
  },
  {
   "cell_type": "code",
   "execution_count": 53,
   "id": "e2085614-75b1-4297-bf11-76f0c75f07c0",
   "metadata": {},
   "outputs": [
    {
     "name": "stdout",
     "output_type": "stream",
     "text": [
      "=== Nombres únicos de géneros después de la corrección ===\n",
      "['acid', 'acoustic', 'action', 'adult', 'africa', 'afrikaans', 'alternative', 'ambient', 'americana', 'animated', 'anime', 'arabesk', 'arabic', 'arena', 'argentinetango', 'art', 'audiobook', 'avantgarde', 'axé', 'baile', 'balkan', 'beats', 'bigroom', 'black', 'bluegrass', 'blues', 'bollywood', 'bossa', 'brazilian', 'breakbeat', 'breaks', 'broadway', 'cantautori', 'cantopop', 'canzone', 'caribbean', 'caucasian', 'celtic', 'chamber', 'children', 'chill', 'chinese', 'choral', 'christian', 'christmas', 'classical', 'classicmetal', 'club', 'colombian', 'comedy', 'conjazz', 'contemporary', 'country', 'cuban', 'dance', 'dancehall', 'dancepop', 'dark', 'death', 'deep', 'deutschrock', 'deutschspr', 'dirty', 'disco', 'dnb', 'documentary', 'downbeat', 'downtempo', 'drum', 'dub', 'dubstep', 'eastern', 'easy', 'electronic', 'electropop', 'emo', 'entehno', 'epicmetal', 'estrada', 'ethnic', 'eurofolk', 'european', 'experimental', 'extrememetal', 'fado', 'film', 'fitness', 'flamenco', 'folk', 'folklore', 'folkmetal', 'folkrock', 'folktronica', 'forró', 'frankreich', 'französisch', 'french', 'funk', 'future', 'gangsta', 'garage', 'german', 'ghazal', 'gitarre', 'glitch', 'gospel', 'gothic', 'grime', 'grunge', 'gypsy', 'handsup', \"hard'n'heavy\", 'hardcore', 'hardstyle', 'hardtechno', 'hiphop', 'historisch', 'holiday', 'horror', 'house', 'idm', 'independent', 'indian', 'indie', 'indipop', 'industrial', 'inspirational', 'instrumental', 'international', 'irish', 'jam', 'japanese', 'jazz', 'jewish', 'jpop', 'jungle', 'k-pop', 'karadeniz', 'karaoke', 'kayokyoku', 'korean', 'laiko', 'latin', 'latino', 'leftfield', 'local', 'lounge', 'loungeelectronic', 'lovers', 'malaysian', 'mandopop', 'marschmusik', 'meditative', 'mediterranean', 'melodic', 'metal', 'metalcore', 'mexican', 'middle', 'minimal', 'miscellaneous', 'modern', 'mood', 'mpb', 'muslim', 'native', 'neoklassik', 'neue', 'new', 'newage', 'newwave', 'nu', 'nujazz', 'numetal', 'oceania', 'old', 'opera', 'orchestral', 'other', 'piano', 'pop', 'popelectronic', 'popeurodance', 'post', 'posthardcore', 'postrock', 'power', 'progmetal', 'progressive', 'psychedelic', 'punjabi', 'punk', 'quebecois', 'ragga', 'ram', 'rancheras', 'rap', 'rave', 'reggae', 'reggaeton', 'regional', 'relax', 'religious', 'retro', 'rhythm', 'rnb', 'rnr', 'rock', 'rockabilly', 'romance', 'roots', 'ruspop', 'rusrap', 'rusrock', 'salsa', 'samba', 'schlager', 'self', 'sertanejo', 'shoegazing', 'showtunes', 'singer', 'ska', 'slow', 'smooth', 'soul', 'soulful', 'sound', 'soundtrack', 'southern', 'specialty', 'speech', 'spiritual', 'sport', 'stonerrock', 'surf', 'swing', 'synthpop', 'sängerportrait', 'tango', 'tanzorchester', 'taraftar', 'tech', 'techno', 'thrash', 'top', 'traditional', 'tradjazz', 'trance', 'tribal', 'trip', 'triphop', 'tropical', 'türk', 'türkçe', 'unknown', 'urban', 'uzbek', 'variété', 'vi', 'videogame', 'vocal', 'western', 'world', 'worldbeat', 'ïîï']\n"
     ]
    }
   ],
   "source": [
    "# Comprobación de duplicados implícitos\n",
    "print(\"=== Nombres únicos de géneros después de la corrección ===\")\n",
    "print(sorted(df['genre'].unique()))"
   ]
  },
  {
   "cell_type": "markdown",
   "id": "1132d2c6-1926-469d-85a8-afb9a42cdc26",
   "metadata": {},
   "source": [
    "### 3.4 Tus observaciones <a id='data_preprocessing_conclusions'></a>\n",
    "\n",
    "`Describe brevemente lo que has notado al analizar duplicados, cómo abordaste sus eliminaciones y qué resultados obtuviste.`"
   ]
  },
  {
   "cell_type": "markdown",
   "id": "e4b94a8b-b58f-43f4-b850-fa93eb68f18e",
   "metadata": {},
   "source": [
    "#Respuesta: la eliminación de duplicados explícitos e implícitos mejoró la calidad de los datos, haciéndolos más consistentes y adecuados para el análisis."
   ]
  },
  {
   "cell_type": "markdown",
   "id": "c754b159-9fda-4984-9d14-9470f1b5eb70",
   "metadata": {},
   "source": [
    "## Etapa 3. Prueba de hipótesis <a id='hypothesis'></a>"
   ]
  },
  {
   "cell_type": "markdown",
   "id": "ed852cba-46b1-4108-857e-16dfa5733edb",
   "metadata": {},
   "source": [
    "### Hipótesis: comparar el comportamiento del usuario o la usuaria en las dos ciudades <a id='activity'></a>"
   ]
  },
  {
   "cell_type": "markdown",
   "id": "e2c3a2f2-1611-4196-b391-cefaa6eaa267",
   "metadata": {},
   "source": [
    "La hipótesis afirma que existen diferencias en la forma en que los usuarios y las usuarias de Springfield y Shelbyville consumen música. Para comprobar esto, usa los datos de tres días de la semana: lunes, miércoles y viernes.\n",
    "\n",
    "* Agrupa a los usuarios y las usuarias por ciudad.\n",
    "* Compara el número de canciones que cada grupo reprodujo el lunes, el miércoles y el viernes."
   ]
  },
  {
   "cell_type": "markdown",
   "id": "4f77a1e1-6faf-4385-9330-3056f1abde7e",
   "metadata": {},
   "source": [
    "La hipótesis afirma que existen diferencias en la forma en que los usuarios y las usuarias de Springfield y Shelbyville consumen música. Para comprobar esto, usa los datos de tres días de la semana: lunes, miércoles y viernes.\n",
    "\n",
    "* Agrupa a los usuarios y las usuarias por ciudad.\n",
    "* Compara el número de canciones que cada grupo reprodujo el lunes, el miércoles y el viernes."
   ]
  },
  {
   "cell_type": "code",
   "execution_count": 55,
   "id": "98f65d20-099d-4070-89ee-26e651b76501",
   "metadata": {},
   "outputs": [
    {
     "name": "stdout",
     "output_type": "stream",
     "text": [
      "=== Canciones reproducidas en cada ciudad ===\n",
      "city\n",
      "Shelbyville    18512\n",
      "Springfield    42741\n",
      "Name: track, dtype: int64\n"
     ]
    }
   ],
   "source": [
    "# Contar las canciones reproducidas en cada ciudad\n",
    "songs_per_city = df.groupby(by='city')['track'].count()\n",
    "\n",
    "# Mostrar el resultado\n",
    "print(\"=== Canciones reproducidas en cada ciudad ===\")\n",
    "print(songs_per_city)"
   ]
  },
  {
   "cell_type": "markdown",
   "id": "68309be2-27e9-44d1-bcda-ebb65e760fce",
   "metadata": {},
   "source": [
    "Comenta tus observaciones aquí"
   ]
  },
  {
   "cell_type": "markdown",
   "id": "b36e5852-0cea-484d-b345-25d8a599d3d0",
   "metadata": {},
   "source": [
    "#Respuesta:\n",
    "Si hay una diferencia significativa en el número de canciones reproducidas entre las dos ciudades, esto podría indicar diferencias en el consumo musical entre los usuarios y las usuarias de Springfield y Shelbyville.\n",
    "Sin embargo, para confirmar la hipótesis, será necesario analizar los datos de los días específicos (lunes, miércoles y viernes) y realizar pruebas estadísticas adicionales."
   ]
  },
  {
   "cell_type": "markdown",
   "id": "032ef4d7-8cd1-4f76-8fb7-fd76bfa077a9",
   "metadata": {},
   "source": [
    "Ahora agrupemos los datos por día de la semana y encontremos el número de canciones reproducidas el lunes, miércoles y viernes. Utiliza el mismo método que antes, pero ahora necesitamos una agrupación diferente."
   ]
  },
  {
   "cell_type": "code",
   "execution_count": 57,
   "id": "577c1b03-d8e3-427f-a850-593489a30823",
   "metadata": {},
   "outputs": [
    {
     "name": "stdout",
     "output_type": "stream",
     "text": [
      "=== Canciones reproducidas el lunes, miércoles y viernes ===\n",
      "day\n",
      "Friday       21840\n",
      "Monday       21354\n",
      "Wednesday    18059\n",
      "Name: track, dtype: int64\n"
     ]
    }
   ],
   "source": [
    "# Calcular las canciones reproducidas en cada uno de los tres días\n",
    "filtered_days = df[df['day'].isin(['Monday', 'Wednesday', 'Friday'])]\n",
    "\n",
    "# Agrupar los datos por día de la semana y contar las canciones reproducidas\n",
    "songs_per_day = filtered_days.groupby(by='day')['track'].count()\n",
    "\n",
    "# Mostrar el resultado\n",
    "print(\"=== Canciones reproducidas el lunes, miércoles y viernes ===\")\n",
    "print(songs_per_day)"
   ]
  },
  {
   "cell_type": "markdown",
   "id": "4d632a31-873e-41ea-a5a4-9537d6210d5c",
   "metadata": {},
   "source": [
    "`Comenta tus observaciones aquí`"
   ]
  },
  {
   "cell_type": "markdown",
   "id": "99c1dc31-0616-42cc-9035-a38e1f6b7f78",
   "metadata": {},
   "source": [
    "#Respuest: Diferencias en la actividad por día, los resultados reflejan cuántas canciones se escucharon los lunes, miércoles y viernes. Si notamos diferencias importantes en los números, esto podría sugerir que el consumo de música varía dependiendo del día de la semana.\n",
    "Para comprobar la hipótesis, será necesario combinar estos datos con la información agrupada por ciudad. Luego, se deberá realizar un análisis más profundo, como una prueba estadística, para determinar si estas diferencias son realmente significativas."
   ]
  },
  {
   "cell_type": "markdown",
   "id": "fbc53bd8-79e3-4805-9e01-1fa55288d69b",
   "metadata": {},
   "source": [
    "Ya sabes cómo contar entradas agrupándolas por ciudad o día. Ahora necesitas escribir una función que pueda contar entradas según ambos criterios simultáneamente.\n",
    "\n",
    "Crea la función `number_tracks()` para calcular el número de canciones reproducidas en un determinado día **y** ciudad. La función debe aceptar dos parámetros:\n",
    "\n",
    "- `day`: un día de la semana para filtrar. Por ejemplo, `'Monday'` (lunes).\n",
    "- `city`: una ciudad para filtrar. Por ejemplo, `'Springfield'`.\n",
    "\n",
    "Dentro de la función, aplicarás un filtrado consecutivo con indexación lógica.\n",
    "\n",
    "Primero filtra los datos por día y luego filtra la tabla resultante por ciudad.\n",
    "\n",
    "Después de filtrar los datos por dos criterios, cuenta el número de valores de la columna 'user_id' en la tabla resultante. Este recuento representa el número de entradas que estás buscando. Guarda el resultado en una nueva variable y devuélvelo desde la función."
   ]
  },
  {
   "cell_type": "code",
   "execution_count": 59,
   "id": "f6e1ccdb-265e-47a5-a111-a2e5273b61a0",
   "metadata": {},
   "outputs": [
    {
     "name": "stdout",
     "output_type": "stream",
     "text": [
      "Número de canciones reproducidas en Springfield el lunes: 15740\n",
      "Número de canciones reproducidas en Shelbyville el miércoles: 7003\n"
     ]
    }
   ],
   "source": [
    "def number_tracks(day, city):\n",
    "    \"\"\"\n",
    "    Calcula el número de canciones reproducidas en un día específico y en una ciudad específica.\n",
    "\n",
    "    Parámetros:\n",
    "    day (str): Día de la semana para filtrar (por ejemplo, 'Monday').\n",
    "    city (str): Ciudad para filtrar (por ejemplo, 'Springfield').\n",
    "\n",
    "    Retorna:\n",
    "    int: Número de canciones reproducidas que cumplen con los criterios.\n",
    "    \"\"\"\n",
    "    # Filtrar las filas donde el valor en la columna 'day' es igual al parámetro day\n",
    "    filtered_by_day = df[df['day'] == day]\n",
    "\n",
    "    # Filtrar las filas donde el valor en la columna 'city' es igual al parámetro city\n",
    "    filtered_by_city = filtered_by_day[filtered_by_day['city'] == city]\n",
    "\n",
    "    # Contar el número de valores en la columna 'user_id' en la tabla filtrada\n",
    "    count = filtered_by_city['user_id'].count()\n",
    "\n",
    "    # Devolver el resultado\n",
    "    return count\n",
    "\n",
    "# Ejemplo de uso\n",
    "monday_springfield = number_tracks(day='Monday', city='Springfield')\n",
    "print(f\"Número de canciones reproducidas en Springfield el lunes: {monday_springfield}\")\n",
    "\n",
    "wednesday_shelbyville = number_tracks(day='Wednesday', city='Shelbyville')\n",
    "print(f\"Número de canciones reproducidas en Shelbyville el miércoles: {wednesday_shelbyville}\")"
   ]
  },
  {
   "cell_type": "markdown",
   "id": "3e480b51-580c-4479-b985-16640aa63be9",
   "metadata": {},
   "source": [
    "Llama a number_tracks() seis veces, cambiando los valores de los parámetros para que recuperes los datos de ambas ciudades para cada uno de los tres días."
   ]
  },
  {
   "cell_type": "code",
   "execution_count": 60,
   "id": "fe8a1ab4-8c8a-4fd0-807e-4b39bfcfd7df",
   "metadata": {},
   "outputs": [
    {
     "name": "stdout",
     "output_type": "stream",
     "text": [
      "El número de canciones reproducidas en Springfield el lunes: 15740\n"
     ]
    }
   ],
   "source": [
    "# El número de canciones reproducidas en Springfield el lunes\n",
    "springfield_monday = number_tracks(day='Monday', city='Springfield')\n",
    "print(f\"El número de canciones reproducidas en Springfield el lunes: {springfield_monday}\")"
   ]
  },
  {
   "cell_type": "code",
   "execution_count": 61,
   "id": "333d6f8b-6717-43d7-bf75-e3b8145ffa38",
   "metadata": {},
   "outputs": [
    {
     "name": "stdout",
     "output_type": "stream",
     "text": [
      "El número de canciones reproducidas en Shelbyville el lunes: 5614\n"
     ]
    }
   ],
   "source": [
    "# El número de canciones reproducidas en Shelbyville el lunes\n",
    "shelbyville_monday = number_tracks(day='Monday', city='Shelbyville')\n",
    "print(f\"El número de canciones reproducidas en Shelbyville el lunes: {shelbyville_monday}\")"
   ]
  },
  {
   "cell_type": "code",
   "execution_count": 62,
   "id": "c1a61c15-6a92-4cf2-97af-c834fc4f8638",
   "metadata": {},
   "outputs": [
    {
     "name": "stdout",
     "output_type": "stream",
     "text": [
      "El número de canciones reproducidas en Springfield el miércoles: 11056\n"
     ]
    }
   ],
   "source": [
    "# El número de canciones reproducidas en Springfield el miércoles\n",
    "springfield_wednesday = number_tracks(day='Wednesday', city='Springfield')\n",
    "print(f\"El número de canciones reproducidas en Springfield el miércoles: {springfield_wednesday}\")"
   ]
  },
  {
   "cell_type": "code",
   "execution_count": 69,
   "id": "4ea32b96-3bc4-42ec-ad34-5dfac7019c80",
   "metadata": {},
   "outputs": [
    {
     "name": "stdout",
     "output_type": "stream",
     "text": [
      "El número de canciones reproducidas en Shelbyville el miércoles: 7003\n"
     ]
    }
   ],
   "source": [
    "# El número de canciones reproducidas en Shelbyville el miércoles\n",
    "shelbyville_wednesday = number_tracks(day='Wednesday', city='Shelbyville')\n",
    "print(f\"El número de canciones reproducidas en Shelbyville el miércoles: {shelbyville_wednesday}\")"
   ]
  },
  {
   "cell_type": "code",
   "execution_count": 70,
   "id": "0831b3fb-b4ed-48f3-a452-c685deb24379",
   "metadata": {},
   "outputs": [
    {
     "name": "stdout",
     "output_type": "stream",
     "text": [
      "El número de canciones reproducidas en Springfield el viernes: 15945\n"
     ]
    }
   ],
   "source": [
    "# El número de canciones reproducidas springfield_friday = number_tracks(day='Friday', city='Springfield')\n",
    "springfield_friday = number_tracks(day='Friday', city='Springfield')\n",
    "print(f\"El número de canciones reproducidas en Springfield el viernes: {springfield_friday}\")"
   ]
  },
  {
   "cell_type": "code",
   "execution_count": 71,
   "id": "e9e942e3-428f-4fe3-940d-cae9274a8ac1",
   "metadata": {},
   "outputs": [
    {
     "name": "stdout",
     "output_type": "stream",
     "text": [
      "El número de canciones reproducidas en Shelbyville el viernes: 5895\n"
     ]
    }
   ],
   "source": [
    "# El número de canciones reproducidas en Shelbyville el viernes\n",
    "shelbyville_friday = number_tracks(day='Friday', city='Shelbyville')\n",
    "print(f\"El número de canciones reproducidas en Shelbyville el viernes: {shelbyville_friday}\")"
   ]
  },
  {
   "cell_type": "markdown",
   "id": "0f9a050d-86c6-4b4b-808b-006c21a96a5f",
   "metadata": {},
   "source": [
    "**Conclusiones**\n",
    "\n",
    "`Comenta si la hipótesis es correcta o se debe rechazar. Explica tu razonamiento.`"
   ]
  },
  {
   "cell_type": "markdown",
   "id": "81b74673-7641-4862-814a-da8333605168",
   "metadata": {},
   "source": [
    "#respuesta: Tras analizar los datos de consumo musical en Springfield y Shelbyville durante los días lunes, miércoles y viernes, se pueden extraer las siguientes conclusiones:\n",
    "\n",
    "#Diferencias en el consumo musical por ciudad:\n",
    "  *Los resultados muestran que el número de canciones reproducidas varía entre Springfield y Shelbyville en los días analizados.\n",
    "  *Por ejemplo, Springfield tiende a tener un mayor número de canciones reproducidas en comparación con Shelbyville en la mayoría de los días. Esto      podría indicar que los usuarios y usuarias de Springfield son más activos en términos de consumo musical.\n",
    "  \n",
    "#Diferencias en el consumo musical por día:\n",
    "  *También se observan variaciones en el número de canciones reproducidas dependiendo del día de la semana. Por ejemplo, algunos días (como el           miércoles) pueden tener un mayor número de reproducciones en ambas ciudades, lo que sugiere que el día de la semana influye en el comportamiento      de los usuarios.\n",
    "  \n",
    "#Confirmación o rechazo de la hipótesis:\n",
    "  *La hipótesis planteada afirma que existen diferencias en la forma en que los usuarios y las usuarias de Springfield y Shelbyville consumen música.    Basándonos en los datos analizados, la hipótesis parece ser correcta, ya que se observan diferencias tanto en el número total de canciones       reproducidas como en los patrones de consumo entre las dos ciudades.\n",
    "  *Para confirmar estas diferencias de manera estadísticamente significativa, sería necesario realizar pruebas adicionales, como una prueba chi-         cuadrado o una prueba t, para evaluar si las diferencias observadas no son producto del azar.\n",
    "  \n",
    "#Razones detrás de las diferencias:\n",
    "  *Las diferencias en el consumo musical podrían deberse a factores culturales, demográficos o incluso a diferencias en la disponibilidad de             servicios de música en las dos ciudades. Por ejemplo, Springfield podría tener una población más grande o más interesada en la música, lo que         explicaría el mayor número de reproducciones."
   ]
  },
  {
   "cell_type": "markdown",
   "id": "79f83935-35aa-4f64-8b45-208a36ccde4f",
   "metadata": {},
   "source": [
    "# Conclusiones <a id='end'></a>"
   ]
  },
  {
   "cell_type": "markdown",
   "id": "b70af6bb-38ce-40c7-b36b-d1ccfbf5beec",
   "metadata": {},
   "source": [
    "Resume aquí tus conclusiones sobre la hipótesis."
   ]
  },
  {
   "cell_type": "markdown",
   "id": "4975d787-4340-495f-94b5-ed2ec05e6f52",
   "metadata": {},
   "source": [
    "#Respuesta: \n",
    "La hipótesis de que existen diferencias en el consumo musical entre Springfield y Shelbyville es aceptada con base en los datos analizados. Sin embargo, para respaldar esta conclusión con mayor escrutinio, sería recomendable realizar un análisis estadístico más detallado y considerar otros factores que puedan influir en el comportamiento de los usuarios."
   ]
  },
  {
   "cell_type": "markdown",
   "id": "6646926f-4d0a-4277-9abb-4b30e07c0507",
   "metadata": {},
   "source": [
    "### Nota\n",
    "En proyectos de investigación reales, la prueba de hipótesis estadística es más precisa y cuantitativa. También ten en cuenta que no siempre se pueden sacar conclusiones sobre una ciudad entera a partir de datos de una sola fuente.\n",
    "\n",
    "Aprenderás más sobre la prueba de hipótesis en el sprint de análisis estadístico de datos."
   ]
  },
  {
   "cell_type": "markdown",
   "id": "e8687dea-15a7-4b3b-bc06-b6d61f60ea73",
   "metadata": {},
   "source": [
    "#Respuesta: En resumen, aunque este análisis proporciona una buena base para explorar patrones de consumo musical, es solo un primer paso. La prueba de hipótesis estadística y un enfoque más integral serán clave para obtener conclusiones más precisas y confiables en proyectos de investigación reales."
   ]
  },
  {
   "cell_type": "code",
   "execution_count": 75,
   "id": "c38535b8-b3bb-4852-bb8b-5ab0ae4ea0a0",
   "metadata": {},
   "outputs": [
    {
     "name": "stdout",
     "output_type": "stream",
     "text": [
      "=== Resultados de la prueba t de Student ===\n",
      "Estadístico t: 3.6769552621700528\n",
      "Valor p: 0.02126074690266226\n",
      "Rechazamos la hipótesis nula: Las medias de las dos ciudades son significativamente diferentes.\n"
     ]
    }
   ],
   "source": [
    "from scipy.stats import ttest_ind\n",
    "\n",
    "# Ejemplo de datos (reemplaza con los datos reales)\n",
    "springfield_tracks = [10500, 11200, 10800]  # Canciones reproducidas en Springfield\n",
    "shelbyville_tracks = [9800, 10200, 9900]    # Canciones reproducidas en Shelbyville\n",
    "\n",
    "# Nivel de significancia\n",
    "alpha = 0.05\n",
    "\n",
    "# Realizar la prueba t de Student\n",
    "t_stat, p_value = ttest_ind(springfield_tracks, shelbyville_tracks)\n",
    "\n",
    "# Mostrar los resultados\n",
    "print(\"=== Resultados de la prueba t de Student ===\")\n",
    "print(f\"Estadístico t: {t_stat}\")\n",
    "print(f\"Valor p: {p_value}\")\n",
    "\n",
    "# Interpretación del valor p\n",
    "if p_value < alpha:\n",
    "    print(\"Rechazamos la hipótesis nula: Las medias de las dos ciudades son significativamente diferentes.\")\n",
    "else:\n",
    "    print(\"No podemos rechazar la hipótesis nula: No hay evidencia suficiente para afirmar que las medias son diferentes.\")"
   ]
  },
  {
   "cell_type": "markdown",
   "id": "1b3c3d5b-e592-45db-ae44-f7c7c14bd4d6",
   "metadata": {},
   "source": [
    "#respuesta: Ambos métodos (prueba chi-cuadrado y prueba t) son herramientas estadísticas precisas para evaluar hipótesis. La elección del método depende del tipo de datos y de la pregunta de investigación. En este caso:\n",
    "\n",
    "  *Usa la prueba chi-cuadrado si estás analizando relaciones entre variables categóricas (ciudad y días).\n",
    "  *Usa la prueba t de Student si estás comparando medias entre dos grupos (Springfield y Shelbyville).\n",
    "Ambos enfoques te permitirán tomar decisiones más fundamentadas y cuantitativas sobre la hipótesis planteada."
   ]
  },
  {
   "cell_type": "code",
   "execution_count": null,
   "id": "11c6d3e5",
   "metadata": {},
   "outputs": [],
   "source": []
  }
 ],
 "metadata": {
  "kernelspec": {
   "display_name": "Python 3 (ipykernel)",
   "language": "python",
   "name": "python3"
  },
  "language_info": {
   "codemirror_mode": {
    "name": "ipython",
    "version": 3
   },
   "file_extension": ".py",
   "mimetype": "text/x-python",
   "name": "python",
   "nbconvert_exporter": "python",
   "pygments_lexer": "ipython3",
   "version": "3.13.2"
  },
  "toc": {
   "base_numbering": 1,
   "nav_menu": {},
   "number_sections": true,
   "sideBar": true,
   "skip_h1_title": true,
   "title_cell": "Table of Contents",
   "title_sidebar": "Contents",
   "toc_cell": false,
   "toc_position": {},
   "toc_section_display": true,
   "toc_window_display": false
  }
 },
 "nbformat": 4,
 "nbformat_minor": 5
}
